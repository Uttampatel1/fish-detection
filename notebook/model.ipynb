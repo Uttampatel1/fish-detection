{
 "cells": [
  {
   "attachments": {},
   "cell_type": "markdown",
   "metadata": {},
   "source": [
    "# import necessary library"
   ]
  },
  {
   "cell_type": "code",
   "execution_count": 1,
   "metadata": {},
   "outputs": [],
   "source": [
    "import pandas as pd\n",
    "import numpy as np\n",
    "import matplotlib.pyplot as plt\n",
    "\n",
    "from sklearn.neighbors import KNeighborsRegressor\n",
    "from sklearn.metrics import r2_score ,mean_squared_error , accuracy_score\n",
    "from sklearn.model_selection import train_test_split , GridSearchCV \n",
    "from sklearn.preprocessing import StandardScaler,LabelEncoder\n",
    "from sklearn.linear_model import Ridge\n",
    "from sklearn.ensemble import RandomForestRegressor , GradientBoostingRegressor,GradientBoostingClassifier\n",
    "from sklearn.pipeline import make_pipeline\n",
    "from sklearn.preprocessing import StandardScaler\n",
    "\n",
    "from keras.models import Sequential\n",
    "from keras.layers import Dense, LSTM, Dropout\n",
    "from keras.callbacks import EarlyStopping\n",
    "from tensorflow import keras\n",
    "\n",
    "import joblib\n",
    "import numpy as np\n",
    "import pandas as pd\n",
    "import tensorflow as tf\n",
    "from sklearn.model_selection import train_test_split\n",
    "from sklearn.preprocessing import StandardScaler\n",
    "\n",
    "\n",
    "# from tensorflow.keras.models import Sequential\n",
    "# from tensorflow.keras.layers import LSTM\n",
    "# from tensorflow.keras.layers import Dense, Dropout\n",
    "# import seaborn as sns\n",
    "\n"
   ]
  },
  {
   "attachments": {},
   "cell_type": "markdown",
   "metadata": {},
   "source": [
    "# Import Datasets"
   ]
  },
  {
   "cell_type": "code",
   "execution_count": 2,
   "metadata": {},
   "outputs": [],
   "source": [
    "df = pd.read_csv('../data/data.csv')"
   ]
  },
  {
   "cell_type": "code",
   "execution_count": 3,
   "metadata": {},
   "outputs": [
    {
     "data": {
      "text/html": [
       "<div>\n",
       "<style scoped>\n",
       "    .dataframe tbody tr th:only-of-type {\n",
       "        vertical-align: middle;\n",
       "    }\n",
       "\n",
       "    .dataframe tbody tr th {\n",
       "        vertical-align: top;\n",
       "    }\n",
       "\n",
       "    .dataframe thead th {\n",
       "        text-align: right;\n",
       "    }\n",
       "</style>\n",
       "<table border=\"1\" class=\"dataframe\">\n",
       "  <thead>\n",
       "    <tr style=\"text-align: right;\">\n",
       "      <th></th>\n",
       "      <th>month</th>\n",
       "      <th>season</th>\n",
       "      <th>lat</th>\n",
       "      <th>lon</th>\n",
       "      <th>chl_df_a</th>\n",
       "      <th>sst</th>\n",
       "      <th>Species Category</th>\n",
       "      <th>Scientific Name</th>\n",
       "      <th>English Name</th>\n",
       "      <th>Local Name</th>\n",
       "      <th>Fish Temp In Category</th>\n",
       "    </tr>\n",
       "  </thead>\n",
       "  <tbody>\n",
       "    <tr>\n",
       "      <th>0</th>\n",
       "      <td>2010-04-05</td>\n",
       "      <td>1</td>\n",
       "      <td>22.517914</td>\n",
       "      <td>67.195389</td>\n",
       "      <td>0.6</td>\n",
       "      <td>27.6</td>\n",
       "      <td>14</td>\n",
       "      <td>35</td>\n",
       "      <td>29</td>\n",
       "      <td>85</td>\n",
       "      <td>1</td>\n",
       "    </tr>\n",
       "    <tr>\n",
       "      <th>1</th>\n",
       "      <td>2010-04-05</td>\n",
       "      <td>1</td>\n",
       "      <td>22.517914</td>\n",
       "      <td>67.195389</td>\n",
       "      <td>0.6</td>\n",
       "      <td>27.6</td>\n",
       "      <td>5</td>\n",
       "      <td>11</td>\n",
       "      <td>16</td>\n",
       "      <td>89</td>\n",
       "      <td>1</td>\n",
       "    </tr>\n",
       "    <tr>\n",
       "      <th>2</th>\n",
       "      <td>2010-04-05</td>\n",
       "      <td>1</td>\n",
       "      <td>22.517914</td>\n",
       "      <td>67.195389</td>\n",
       "      <td>0.6</td>\n",
       "      <td>27.6</td>\n",
       "      <td>12</td>\n",
       "      <td>102</td>\n",
       "      <td>108</td>\n",
       "      <td>63</td>\n",
       "      <td>2</td>\n",
       "    </tr>\n",
       "    <tr>\n",
       "      <th>3</th>\n",
       "      <td>2010-04-05</td>\n",
       "      <td>1</td>\n",
       "      <td>22.517914</td>\n",
       "      <td>67.195389</td>\n",
       "      <td>0.6</td>\n",
       "      <td>27.6</td>\n",
       "      <td>12</td>\n",
       "      <td>79</td>\n",
       "      <td>31</td>\n",
       "      <td>77</td>\n",
       "      <td>2</td>\n",
       "    </tr>\n",
       "    <tr>\n",
       "      <th>4</th>\n",
       "      <td>2010-04-05</td>\n",
       "      <td>1</td>\n",
       "      <td>22.517914</td>\n",
       "      <td>67.195389</td>\n",
       "      <td>0.6</td>\n",
       "      <td>27.6</td>\n",
       "      <td>12</td>\n",
       "      <td>80</td>\n",
       "      <td>10</td>\n",
       "      <td>76</td>\n",
       "      <td>2</td>\n",
       "    </tr>\n",
       "  </tbody>\n",
       "</table>\n",
       "</div>"
      ],
      "text/plain": [
       "        month  season        lat        lon  chl_df_a   sst  Species Category   \n",
       "0  2010-04-05       1  22.517914  67.195389       0.6  27.6                14  \\\n",
       "1  2010-04-05       1  22.517914  67.195389       0.6  27.6                 5   \n",
       "2  2010-04-05       1  22.517914  67.195389       0.6  27.6                12   \n",
       "3  2010-04-05       1  22.517914  67.195389       0.6  27.6                12   \n",
       "4  2010-04-05       1  22.517914  67.195389       0.6  27.6                12   \n",
       "\n",
       "   Scientific Name  English Name  Local Name  Fish Temp In Category  \n",
       "0               35            29          85                      1  \n",
       "1               11            16          89                      1  \n",
       "2              102           108          63                      2  \n",
       "3               79            31          77                      2  \n",
       "4               80            10          76                      2  "
      ]
     },
     "execution_count": 3,
     "metadata": {},
     "output_type": "execute_result"
    }
   ],
   "source": [
    "df.head()"
   ]
  },
  {
   "cell_type": "code",
   "execution_count": 4,
   "metadata": {},
   "outputs": [],
   "source": [
    "df.drop(['month','Species Category','Scientific Name','Local Name'],axis=1,inplace=True)"
   ]
  },
  {
   "cell_type": "code",
   "execution_count": 5,
   "metadata": {},
   "outputs": [
    {
     "name": "stdout",
     "output_type": "stream",
     "text": [
      "<class 'pandas.core.frame.DataFrame'>\n",
      "RangeIndex: 385150 entries, 0 to 385149\n",
      "Data columns (total 7 columns):\n",
      " #   Column                 Non-Null Count   Dtype  \n",
      "---  ------                 --------------   -----  \n",
      " 0   season                 385150 non-null  int64  \n",
      " 1   lat                    385150 non-null  float64\n",
      " 2   lon                    385150 non-null  float64\n",
      " 3   chl_df_a               385150 non-null  float64\n",
      " 4   sst                    385150 non-null  float64\n",
      " 5   English Name           385150 non-null  int64  \n",
      " 6   Fish Temp In Category  385150 non-null  int64  \n",
      "dtypes: float64(4), int64(3)\n",
      "memory usage: 20.6 MB\n"
     ]
    }
   ],
   "source": [
    "df.info()"
   ]
  },
  {
   "cell_type": "code",
   "execution_count": 6,
   "metadata": {},
   "outputs": [],
   "source": [
    "# df.plot()"
   ]
  },
  {
   "cell_type": "code",
   "execution_count": 7,
   "metadata": {},
   "outputs": [
    {
     "data": {
      "text/plain": [
       "(50,)"
      ]
     },
     "execution_count": 7,
     "metadata": {},
     "output_type": "execute_result"
    }
   ],
   "source": [
    "df['lat'].unique().shape"
   ]
  },
  {
   "cell_type": "code",
   "execution_count": 8,
   "metadata": {},
   "outputs": [
    {
     "data": {
      "text/plain": [
       "(50,)"
      ]
     },
     "execution_count": 8,
     "metadata": {},
     "output_type": "execute_result"
    }
   ],
   "source": [
    "df['lon'].unique().shape"
   ]
  },
  {
   "cell_type": "code",
   "execution_count": 9,
   "metadata": {},
   "outputs": [
    {
     "data": {
      "text/plain": [
       "Index(['season', 'lat', 'lon', 'chl_df_a', 'sst', 'English Name',\n",
       "       'Fish Temp In Category'],\n",
       "      dtype='object')"
      ]
     },
     "execution_count": 9,
     "metadata": {},
     "output_type": "execute_result"
    }
   ],
   "source": [
    "df.columns"
   ]
  },
  {
   "cell_type": "code",
   "execution_count": 10,
   "metadata": {},
   "outputs": [
    {
     "data": {
      "text/plain": [
       "array([1, 2, 3, 0, 4], dtype=int64)"
      ]
     },
     "execution_count": 10,
     "metadata": {},
     "output_type": "execute_result"
    }
   ],
   "source": [
    "df['Fish Temp In Category'].unique()"
   ]
  },
  {
   "cell_type": "code",
   "execution_count": 11,
   "metadata": {},
   "outputs": [
    {
     "data": {
      "text/html": [
       "<div>\n",
       "<style scoped>\n",
       "    .dataframe tbody tr th:only-of-type {\n",
       "        vertical-align: middle;\n",
       "    }\n",
       "\n",
       "    .dataframe tbody tr th {\n",
       "        vertical-align: top;\n",
       "    }\n",
       "\n",
       "    .dataframe thead th {\n",
       "        text-align: right;\n",
       "    }\n",
       "</style>\n",
       "<table border=\"1\" class=\"dataframe\">\n",
       "  <thead>\n",
       "    <tr style=\"text-align: right;\">\n",
       "      <th></th>\n",
       "      <th>season</th>\n",
       "      <th>lat</th>\n",
       "      <th>lon</th>\n",
       "      <th>chl_df_a</th>\n",
       "      <th>sst</th>\n",
       "      <th>English Name</th>\n",
       "      <th>Fish Temp In Category</th>\n",
       "    </tr>\n",
       "  </thead>\n",
       "  <tbody>\n",
       "    <tr>\n",
       "      <th>0</th>\n",
       "      <td>1</td>\n",
       "      <td>22.517914</td>\n",
       "      <td>67.195389</td>\n",
       "      <td>0.6</td>\n",
       "      <td>27.6</td>\n",
       "      <td>29</td>\n",
       "      <td>1</td>\n",
       "    </tr>\n",
       "    <tr>\n",
       "      <th>1</th>\n",
       "      <td>1</td>\n",
       "      <td>22.517914</td>\n",
       "      <td>67.195389</td>\n",
       "      <td>0.6</td>\n",
       "      <td>27.6</td>\n",
       "      <td>16</td>\n",
       "      <td>1</td>\n",
       "    </tr>\n",
       "    <tr>\n",
       "      <th>2</th>\n",
       "      <td>1</td>\n",
       "      <td>22.517914</td>\n",
       "      <td>67.195389</td>\n",
       "      <td>0.6</td>\n",
       "      <td>27.6</td>\n",
       "      <td>108</td>\n",
       "      <td>2</td>\n",
       "    </tr>\n",
       "    <tr>\n",
       "      <th>3</th>\n",
       "      <td>1</td>\n",
       "      <td>22.517914</td>\n",
       "      <td>67.195389</td>\n",
       "      <td>0.6</td>\n",
       "      <td>27.6</td>\n",
       "      <td>31</td>\n",
       "      <td>2</td>\n",
       "    </tr>\n",
       "    <tr>\n",
       "      <th>4</th>\n",
       "      <td>1</td>\n",
       "      <td>22.517914</td>\n",
       "      <td>67.195389</td>\n",
       "      <td>0.6</td>\n",
       "      <td>27.6</td>\n",
       "      <td>10</td>\n",
       "      <td>2</td>\n",
       "    </tr>\n",
       "  </tbody>\n",
       "</table>\n",
       "</div>"
      ],
      "text/plain": [
       "   season        lat        lon  chl_df_a   sst  English Name   \n",
       "0       1  22.517914  67.195389       0.6  27.6            29  \\\n",
       "1       1  22.517914  67.195389       0.6  27.6            16   \n",
       "2       1  22.517914  67.195389       0.6  27.6           108   \n",
       "3       1  22.517914  67.195389       0.6  27.6            31   \n",
       "4       1  22.517914  67.195389       0.6  27.6            10   \n",
       "\n",
       "   Fish Temp In Category  \n",
       "0                      1  \n",
       "1                      1  \n",
       "2                      2  \n",
       "3                      2  \n",
       "4                      2  "
      ]
     },
     "execution_count": 11,
     "metadata": {},
     "output_type": "execute_result"
    }
   ],
   "source": [
    "df.head()"
   ]
  },
  {
   "cell_type": "code",
   "execution_count": 12,
   "metadata": {},
   "outputs": [],
   "source": [
    "data = df.copy()"
   ]
  },
  {
   "attachments": {},
   "cell_type": "markdown",
   "metadata": {},
   "source": [
    "## split the data into training and testing sets"
   ]
  },
  {
   "cell_type": "code",
   "execution_count": 13,
   "metadata": {},
   "outputs": [],
   "source": [
    "data1 = pd.read_csv('../data/cat_data_eng.csv')"
   ]
  },
  {
   "cell_type": "code",
   "execution_count": 14,
   "metadata": {},
   "outputs": [],
   "source": [
    "data1.drop('month',axis=1,inplace=True)"
   ]
  },
  {
   "cell_type": "code",
   "execution_count": 15,
   "metadata": {},
   "outputs": [
    {
     "data": {
      "text/html": [
       "<div>\n",
       "<style scoped>\n",
       "    .dataframe tbody tr th:only-of-type {\n",
       "        vertical-align: middle;\n",
       "    }\n",
       "\n",
       "    .dataframe tbody tr th {\n",
       "        vertical-align: top;\n",
       "    }\n",
       "\n",
       "    .dataframe thead th {\n",
       "        text-align: right;\n",
       "    }\n",
       "</style>\n",
       "<table border=\"1\" class=\"dataframe\">\n",
       "  <thead>\n",
       "    <tr style=\"text-align: right;\">\n",
       "      <th></th>\n",
       "      <th>season</th>\n",
       "      <th>lat</th>\n",
       "      <th>lon</th>\n",
       "      <th>chl_df_a</th>\n",
       "      <th>sst</th>\n",
       "      <th>English Name</th>\n",
       "      <th>Fish Temp In Category</th>\n",
       "    </tr>\n",
       "  </thead>\n",
       "  <tbody>\n",
       "    <tr>\n",
       "      <th>0</th>\n",
       "      <td>1</td>\n",
       "      <td>22.517914</td>\n",
       "      <td>67.195389</td>\n",
       "      <td>0.6</td>\n",
       "      <td>27.6</td>\n",
       "      <td>Golden snapper</td>\n",
       "      <td>Group 2</td>\n",
       "    </tr>\n",
       "    <tr>\n",
       "      <th>1</th>\n",
       "      <td>1</td>\n",
       "      <td>22.517914</td>\n",
       "      <td>67.195389</td>\n",
       "      <td>0.6</td>\n",
       "      <td>27.6</td>\n",
       "      <td>Cross crab</td>\n",
       "      <td>Group 2</td>\n",
       "    </tr>\n",
       "    <tr>\n",
       "      <th>2</th>\n",
       "      <td>1</td>\n",
       "      <td>22.517914</td>\n",
       "      <td>67.195389</td>\n",
       "      <td>0.6</td>\n",
       "      <td>27.6</td>\n",
       "      <td>snake fish</td>\n",
       "      <td>Group 3</td>\n",
       "    </tr>\n",
       "    <tr>\n",
       "      <th>3</th>\n",
       "      <td>1</td>\n",
       "      <td>22.517914</td>\n",
       "      <td>67.195389</td>\n",
       "      <td>0.6</td>\n",
       "      <td>27.6</td>\n",
       "      <td>Greater lizard fish</td>\n",
       "      <td>Group 3</td>\n",
       "    </tr>\n",
       "    <tr>\n",
       "      <th>4</th>\n",
       "      <td>1</td>\n",
       "      <td>22.517914</td>\n",
       "      <td>67.195389</td>\n",
       "      <td>0.6</td>\n",
       "      <td>27.6</td>\n",
       "      <td>Brush tooth , lizard fish</td>\n",
       "      <td>Group 3</td>\n",
       "    </tr>\n",
       "    <tr>\n",
       "      <th>...</th>\n",
       "      <td>...</td>\n",
       "      <td>...</td>\n",
       "      <td>...</td>\n",
       "      <td>...</td>\n",
       "      <td>...</td>\n",
       "      <td>...</td>\n",
       "      <td>...</td>\n",
       "    </tr>\n",
       "    <tr>\n",
       "      <th>385145</th>\n",
       "      <td>2</td>\n",
       "      <td>20.480785</td>\n",
       "      <td>69.242325</td>\n",
       "      <td>1.0</td>\n",
       "      <td>27.7</td>\n",
       "      <td>Indian hailbat</td>\n",
       "      <td>Group 2</td>\n",
       "    </tr>\n",
       "    <tr>\n",
       "      <th>385146</th>\n",
       "      <td>2</td>\n",
       "      <td>20.480785</td>\n",
       "      <td>69.242325</td>\n",
       "      <td>1.0</td>\n",
       "      <td>27.7</td>\n",
       "      <td>Painted sweet lip</td>\n",
       "      <td>Group 2</td>\n",
       "    </tr>\n",
       "    <tr>\n",
       "      <th>385147</th>\n",
       "      <td>2</td>\n",
       "      <td>20.480785</td>\n",
       "      <td>69.242325</td>\n",
       "      <td>1.0</td>\n",
       "      <td>26.0</td>\n",
       "      <td>Spiny lobster</td>\n",
       "      <td>Group 1</td>\n",
       "    </tr>\n",
       "    <tr>\n",
       "      <th>385148</th>\n",
       "      <td>2</td>\n",
       "      <td>20.480785</td>\n",
       "      <td>69.242325</td>\n",
       "      <td>1.0</td>\n",
       "      <td>26.0</td>\n",
       "      <td>Indian hailbat</td>\n",
       "      <td>Group 2</td>\n",
       "    </tr>\n",
       "    <tr>\n",
       "      <th>385149</th>\n",
       "      <td>2</td>\n",
       "      <td>20.480785</td>\n",
       "      <td>69.242325</td>\n",
       "      <td>1.0</td>\n",
       "      <td>26.0</td>\n",
       "      <td>Painted sweet lip</td>\n",
       "      <td>Group 2</td>\n",
       "    </tr>\n",
       "  </tbody>\n",
       "</table>\n",
       "<p>385150 rows × 7 columns</p>\n",
       "</div>"
      ],
      "text/plain": [
       "        season        lat        lon  chl_df_a   sst   \n",
       "0            1  22.517914  67.195389       0.6  27.6  \\\n",
       "1            1  22.517914  67.195389       0.6  27.6   \n",
       "2            1  22.517914  67.195389       0.6  27.6   \n",
       "3            1  22.517914  67.195389       0.6  27.6   \n",
       "4            1  22.517914  67.195389       0.6  27.6   \n",
       "...        ...        ...        ...       ...   ...   \n",
       "385145       2  20.480785  69.242325       1.0  27.7   \n",
       "385146       2  20.480785  69.242325       1.0  27.7   \n",
       "385147       2  20.480785  69.242325       1.0  26.0   \n",
       "385148       2  20.480785  69.242325       1.0  26.0   \n",
       "385149       2  20.480785  69.242325       1.0  26.0   \n",
       "\n",
       "                     English Name Fish Temp In Category  \n",
       "0                  Golden snapper               Group 2  \n",
       "1                      Cross crab               Group 2  \n",
       "2                      snake fish               Group 3  \n",
       "3             Greater lizard fish               Group 3  \n",
       "4       Brush tooth , lizard fish               Group 3  \n",
       "...                           ...                   ...  \n",
       "385145             Indian hailbat               Group 2  \n",
       "385146         Painted sweet lip                Group 2  \n",
       "385147              Spiny lobster               Group 1  \n",
       "385148             Indian hailbat               Group 2  \n",
       "385149         Painted sweet lip                Group 2  \n",
       "\n",
       "[385150 rows x 7 columns]"
      ]
     },
     "execution_count": 15,
     "metadata": {},
     "output_type": "execute_result"
    }
   ],
   "source": [
    "data1"
   ]
  },
  {
   "cell_type": "code",
   "execution_count": 16,
   "metadata": {},
   "outputs": [],
   "source": [
    "   # Perform any necessary data cleaning and preprocessing here\n",
    "data = df.copy()\n",
    "# Step 2: Encode categorical variables\n",
    "cat_vars = ['English Name','Fish Temp In Category']\n",
    "label_encoders = {}\n",
    "for var in cat_vars:\n",
    "    label_encoders[var] = LabelEncoder()\n",
    "    data[var] = label_encoders[var].fit_transform(data1[var])\n"
   ]
  },
  {
   "cell_type": "code",
   "execution_count": 17,
   "metadata": {},
   "outputs": [
    {
     "data": {
      "text/html": [
       "<div>\n",
       "<style scoped>\n",
       "    .dataframe tbody tr th:only-of-type {\n",
       "        vertical-align: middle;\n",
       "    }\n",
       "\n",
       "    .dataframe tbody tr th {\n",
       "        vertical-align: top;\n",
       "    }\n",
       "\n",
       "    .dataframe thead th {\n",
       "        text-align: right;\n",
       "    }\n",
       "</style>\n",
       "<table border=\"1\" class=\"dataframe\">\n",
       "  <thead>\n",
       "    <tr style=\"text-align: right;\">\n",
       "      <th></th>\n",
       "      <th>season</th>\n",
       "      <th>lat</th>\n",
       "      <th>lon</th>\n",
       "      <th>chl_df_a</th>\n",
       "      <th>sst</th>\n",
       "      <th>English Name</th>\n",
       "      <th>Fish Temp In Category</th>\n",
       "    </tr>\n",
       "  </thead>\n",
       "  <tbody>\n",
       "    <tr>\n",
       "      <th>0</th>\n",
       "      <td>1</td>\n",
       "      <td>22.517914</td>\n",
       "      <td>67.195389</td>\n",
       "      <td>0.6</td>\n",
       "      <td>27.6</td>\n",
       "      <td>29</td>\n",
       "      <td>1</td>\n",
       "    </tr>\n",
       "    <tr>\n",
       "      <th>1</th>\n",
       "      <td>1</td>\n",
       "      <td>22.517914</td>\n",
       "      <td>67.195389</td>\n",
       "      <td>0.6</td>\n",
       "      <td>27.6</td>\n",
       "      <td>16</td>\n",
       "      <td>1</td>\n",
       "    </tr>\n",
       "    <tr>\n",
       "      <th>2</th>\n",
       "      <td>1</td>\n",
       "      <td>22.517914</td>\n",
       "      <td>67.195389</td>\n",
       "      <td>0.6</td>\n",
       "      <td>27.6</td>\n",
       "      <td>108</td>\n",
       "      <td>2</td>\n",
       "    </tr>\n",
       "    <tr>\n",
       "      <th>3</th>\n",
       "      <td>1</td>\n",
       "      <td>22.517914</td>\n",
       "      <td>67.195389</td>\n",
       "      <td>0.6</td>\n",
       "      <td>27.6</td>\n",
       "      <td>31</td>\n",
       "      <td>2</td>\n",
       "    </tr>\n",
       "    <tr>\n",
       "      <th>4</th>\n",
       "      <td>1</td>\n",
       "      <td>22.517914</td>\n",
       "      <td>67.195389</td>\n",
       "      <td>0.6</td>\n",
       "      <td>27.6</td>\n",
       "      <td>10</td>\n",
       "      <td>2</td>\n",
       "    </tr>\n",
       "    <tr>\n",
       "      <th>...</th>\n",
       "      <td>...</td>\n",
       "      <td>...</td>\n",
       "      <td>...</td>\n",
       "      <td>...</td>\n",
       "      <td>...</td>\n",
       "      <td>...</td>\n",
       "      <td>...</td>\n",
       "    </tr>\n",
       "    <tr>\n",
       "      <th>385145</th>\n",
       "      <td>2</td>\n",
       "      <td>20.480785</td>\n",
       "      <td>69.242325</td>\n",
       "      <td>1.0</td>\n",
       "      <td>27.7</td>\n",
       "      <td>39</td>\n",
       "      <td>1</td>\n",
       "    </tr>\n",
       "    <tr>\n",
       "      <th>385146</th>\n",
       "      <td>2</td>\n",
       "      <td>20.480785</td>\n",
       "      <td>69.242325</td>\n",
       "      <td>1.0</td>\n",
       "      <td>27.7</td>\n",
       "      <td>65</td>\n",
       "      <td>1</td>\n",
       "    </tr>\n",
       "    <tr>\n",
       "      <th>385147</th>\n",
       "      <td>2</td>\n",
       "      <td>20.480785</td>\n",
       "      <td>69.242325</td>\n",
       "      <td>1.0</td>\n",
       "      <td>26.0</td>\n",
       "      <td>89</td>\n",
       "      <td>0</td>\n",
       "    </tr>\n",
       "    <tr>\n",
       "      <th>385148</th>\n",
       "      <td>2</td>\n",
       "      <td>20.480785</td>\n",
       "      <td>69.242325</td>\n",
       "      <td>1.0</td>\n",
       "      <td>26.0</td>\n",
       "      <td>39</td>\n",
       "      <td>1</td>\n",
       "    </tr>\n",
       "    <tr>\n",
       "      <th>385149</th>\n",
       "      <td>2</td>\n",
       "      <td>20.480785</td>\n",
       "      <td>69.242325</td>\n",
       "      <td>1.0</td>\n",
       "      <td>26.0</td>\n",
       "      <td>65</td>\n",
       "      <td>1</td>\n",
       "    </tr>\n",
       "  </tbody>\n",
       "</table>\n",
       "<p>385150 rows × 7 columns</p>\n",
       "</div>"
      ],
      "text/plain": [
       "        season        lat        lon  chl_df_a   sst  English Name   \n",
       "0            1  22.517914  67.195389       0.6  27.6            29  \\\n",
       "1            1  22.517914  67.195389       0.6  27.6            16   \n",
       "2            1  22.517914  67.195389       0.6  27.6           108   \n",
       "3            1  22.517914  67.195389       0.6  27.6            31   \n",
       "4            1  22.517914  67.195389       0.6  27.6            10   \n",
       "...        ...        ...        ...       ...   ...           ...   \n",
       "385145       2  20.480785  69.242325       1.0  27.7            39   \n",
       "385146       2  20.480785  69.242325       1.0  27.7            65   \n",
       "385147       2  20.480785  69.242325       1.0  26.0            89   \n",
       "385148       2  20.480785  69.242325       1.0  26.0            39   \n",
       "385149       2  20.480785  69.242325       1.0  26.0            65   \n",
       "\n",
       "        Fish Temp In Category  \n",
       "0                           1  \n",
       "1                           1  \n",
       "2                           2  \n",
       "3                           2  \n",
       "4                           2  \n",
       "...                       ...  \n",
       "385145                      1  \n",
       "385146                      1  \n",
       "385147                      0  \n",
       "385148                      1  \n",
       "385149                      1  \n",
       "\n",
       "[385150 rows x 7 columns]"
      ]
     },
     "execution_count": 17,
     "metadata": {},
     "output_type": "execute_result"
    }
   ],
   "source": [
    "data"
   ]
  },
  {
   "cell_type": "code",
   "execution_count": 18,
   "metadata": {},
   "outputs": [],
   "source": [
    "# split the data into training and testing sets\n",
    "X = data[['season', 'English Name', 'Fish Temp In Category']]\n",
    "y = data[['lat', 'lon']]\n",
    "X_train, X_test, y_train, y_test = train_test_split(X, y, test_size=0.2, random_state=42)"
   ]
  },
  {
   "cell_type": "code",
   "execution_count": 19,
   "metadata": {},
   "outputs": [],
   "source": [
    "# normalize the data\n",
    "scaler = StandardScaler()\n",
    "X_train = scaler.fit_transform(X_train)\n",
    "X_test = scaler.transform(X_test)"
   ]
  },
  {
   "attachments": {},
   "cell_type": "markdown",
   "metadata": {},
   "source": [
    "### Algo 1"
   ]
  },
  {
   "attachments": {},
   "cell_type": "markdown",
   "metadata": {},
   "source": [
    "## Define and train the deep learning model:"
   ]
  },
  {
   "cell_type": "code",
   "execution_count": 24,
   "metadata": {},
   "outputs": [
    {
     "name": "stdout",
     "output_type": "stream",
     "text": [
      "Epoch 1/10\n",
      "9629/9629 [==============================] - 20s 2ms/step - loss: 33.1415 - val_loss: 0.3646\n",
      "Epoch 2/10\n",
      "9629/9629 [==============================] - 17s 2ms/step - loss: 0.3564 - val_loss: 0.3540\n",
      "Epoch 3/10\n",
      "9629/9629 [==============================] - 16s 2ms/step - loss: 0.3468 - val_loss: 0.3353\n",
      "Epoch 4/10\n",
      "9629/9629 [==============================] - 17s 2ms/step - loss: 0.3411 - val_loss: 0.3465\n",
      "Epoch 5/10\n",
      "9629/9629 [==============================] - 18s 2ms/step - loss: 0.3374 - val_loss: 0.3314\n",
      "Epoch 6/10\n",
      "9629/9629 [==============================] - 18s 2ms/step - loss: 0.3351 - val_loss: 0.3300\n",
      "Epoch 7/10\n",
      "9629/9629 [==============================] - 17s 2ms/step - loss: 0.3316 - val_loss: 0.3237\n",
      "Epoch 8/10\n",
      "9629/9629 [==============================] - 17s 2ms/step - loss: 0.3256 - val_loss: 0.3346\n",
      "Epoch 9/10\n",
      "9629/9629 [==============================] - 18s 2ms/step - loss: 0.3234 - val_loss: 0.3282\n",
      "Epoch 10/10\n",
      "9629/9629 [==============================] - 18s 2ms/step - loss: 0.3217 - val_loss: 0.3190\n"
     ]
    },
    {
     "data": {
      "text/plain": [
       "<keras.callbacks.History at 0x2cef7520410>"
      ]
     },
     "execution_count": 24,
     "metadata": {},
     "output_type": "execute_result"
    }
   ],
   "source": [
    "# Define the model architecture\n",
    "model = tf.keras.models.Sequential([\n",
    "    tf.keras.layers.Dense(64, activation='relu', input_shape=(3,)),\n",
    "    tf.keras.layers.Dense(32, activation='relu'),\n",
    "    tf.keras.layers.Dense(2)\n",
    "])\n",
    "\n",
    "# Compile the model\n",
    "model.compile(optimizer='adam', loss='mean_squared_error')\n",
    "\n",
    "# Train the model\n",
    "model.fit(X_train, y_train, epochs=10, batch_size=32, validation_data=(X_test, y_test))\n"
   ]
  },
  {
   "cell_type": "code",
   "execution_count": 25,
   "metadata": {},
   "outputs": [
    {
     "name": "stdout",
     "output_type": "stream",
     "text": [
      "2408/2408 [==============================] - 4s 2ms/step - loss: 0.3190\n",
      "Test loss: 0.3189990818500519\n"
     ]
    }
   ],
   "source": [
    "# Evaluate the model on the test set\n",
    "loss = model.evaluate(X_test, y_test)\n",
    "print('Test loss:', loss)"
   ]
  },
  {
   "cell_type": "code",
   "execution_count": 26,
   "metadata": {},
   "outputs": [],
   "source": [
    "model.save('../models/algo1_ann.h5')"
   ]
  },
  {
   "cell_type": "code",
   "execution_count": 36,
   "metadata": {},
   "outputs": [
    {
     "name": "stdout",
     "output_type": "stream",
     "text": [
      "1/1 [==============================] - 0s 49ms/step\n",
      "[[21.69988 68.03562]]\n",
      "[[21.699880599975586, 68.0356216430664]]\n"
     ]
    }
   ],
   "source": [
    "algo1 = tf.keras.models.load_model('../models/algo1_ann.h5')\n",
    "\n",
    "input_data = pd.DataFrame({'season': [2], 'English Name': [85], 'Fish Temp In Category': [1]})\n",
    "# normalize and reshape the input data\n",
    "input_data = scaler.transform(input_data)\n",
    "# input_data = np.reshape(input_data, (1, 1, input_data.shape[1]))\n",
    "# X_train = np.reshape(X_train, (X_train.shape[0], 1, X_train.shape[1]))\n",
    "import json\n",
    "# make predictions\n",
    "predictions = algo1.predict(input_data)\n",
    "# print(f\"Predicted latitude: {predictions[0][0]}\")\n",
    "# print(f\"Predicted longitude: {predictions[0][1]}\")\n",
    "predictions = np.array(predictions, dtype=np.float32)\n",
    "predictions_list = predictions.tolist()\n",
    "json_predictions = json.dumps(predictions_list)\n"
   ]
  },
  {
   "attachments": {},
   "cell_type": "markdown",
   "metadata": {},
   "source": [
    "### Algo 2"
   ]
  },
  {
   "attachments": {},
   "cell_type": "markdown",
   "metadata": {},
   "source": [
    "## Define and train the LSTM model:"
   ]
  },
  {
   "cell_type": "code",
   "execution_count": 27,
   "metadata": {},
   "outputs": [],
   "source": [
    "# Reshape the input data to 3D tensors\n",
    "X_train_3d = np.reshape(X_train, (X_train.shape[0], 1, X_train.shape[1]))\n",
    "X_test_3d = np.reshape(X_test, (X_test.shape[0], 1, X_test.shape[1]))\n"
   ]
  },
  {
   "cell_type": "code",
   "execution_count": 28,
   "metadata": {},
   "outputs": [
    {
     "name": "stdout",
     "output_type": "stream",
     "text": [
      "Epoch 1/10\n",
      "9629/9629 [==============================] - 28s 3ms/step - loss: 130.6193 - val_loss: 0.3622\n",
      "Epoch 2/10\n",
      "9629/9629 [==============================] - 23s 2ms/step - loss: 0.3461 - val_loss: 0.3417\n",
      "Epoch 3/10\n",
      "9629/9629 [==============================] - 23s 2ms/step - loss: 0.3379 - val_loss: 0.3360\n",
      "Epoch 4/10\n",
      "9629/9629 [==============================] - 31s 3ms/step - loss: 0.3331 - val_loss: 0.3328\n",
      "Epoch 5/10\n",
      "9629/9629 [==============================] - 26s 3ms/step - loss: 0.3288 - val_loss: 0.3347\n",
      "Epoch 6/10\n",
      "9629/9629 [==============================] - 24s 2ms/step - loss: 0.3244 - val_loss: 0.3209\n",
      "Epoch 7/10\n",
      "9629/9629 [==============================] - 25s 3ms/step - loss: 0.3202 - val_loss: 0.3272\n",
      "Epoch 8/10\n",
      "9629/9629 [==============================] - 25s 3ms/step - loss: 0.3155 - val_loss: 0.3132\n",
      "Epoch 9/10\n",
      "9629/9629 [==============================] - 25s 3ms/step - loss: 0.3107 - val_loss: 0.3091\n",
      "Epoch 10/10\n",
      "9629/9629 [==============================] - 23s 2ms/step - loss: 0.3067 - val_loss: 0.3051\n"
     ]
    },
    {
     "data": {
      "text/plain": [
       "<keras.callbacks.History at 0x2ce804c3110>"
      ]
     },
     "execution_count": 28,
     "metadata": {},
     "output_type": "execute_result"
    }
   ],
   "source": [
    "# Define the model architecture\n",
    "model = tf.keras.models.Sequential([\n",
    "    tf.keras.layers.LSTM(64, activation='relu', input_shape=(1, 3)),\n",
    "    tf.keras.layers.Dense(2)\n",
    "])\n",
    "\n",
    "# Compile the model\n",
    "model.compile(optimizer='adam', loss='mean_squared_error')\n",
    "\n",
    "# Train the model\n",
    "model.fit(X_train_3d, y_train, epochs=10, batch_size=32, validation_data=(X_test_3d, y_test))\n"
   ]
  },
  {
   "cell_type": "code",
   "execution_count": 29,
   "metadata": {},
   "outputs": [
    {
     "name": "stdout",
     "output_type": "stream",
     "text": [
      "2408/2408 [==============================] - 4s 2ms/step - loss: 0.3051\n",
      "Test loss: 0.3050539493560791\n"
     ]
    }
   ],
   "source": [
    "# Evaluate the model on the test set\n",
    "loss = model.evaluate(X_test_3d, y_test)\n",
    "print('Test loss:', loss)\n"
   ]
  },
  {
   "cell_type": "code",
   "execution_count": 30,
   "metadata": {},
   "outputs": [],
   "source": [
    "model.save('../models/algo2_lstm.h5')"
   ]
  },
  {
   "cell_type": "code",
   "execution_count": 27,
   "metadata": {},
   "outputs": [
    {
     "name": "stdout",
     "output_type": "stream",
     "text": [
      "1/1 [==============================] - 0s 200ms/step\n",
      "Predicted latitude: 21.51580810546875\n",
      "Predicted longitude: 68.0\n"
     ]
    }
   ],
   "source": [
    "algo2 = tf.keras.models.load_model('../models/algo2_lstm.h5')\n",
    "\n",
    "input_data = pd.DataFrame({'season': [2], 'English Name': [85], 'Fish Temp In Category': [1]})\n",
    "# normalize and reshape the input data\n",
    "\n",
    "input_data = scaler.transform(input_data)\n",
    "\n",
    "X_new_3d = np.reshape(input_data, (input_data.shape[0], 1, input_data.shape[1]))\n",
    "# make predictions\n",
    "predictions = algo2.predict(X_new_3d)\n",
    "print(f\"Predicted latitude: {predictions[0][0]}\")\n",
    "print(f\"Predicted longitude: {predictions[0][1]}\")"
   ]
  },
  {
   "attachments": {},
   "cell_type": "markdown",
   "metadata": {},
   "source": [
    "##  Algo 3 Final"
   ]
  },
  {
   "attachments": {},
   "cell_type": "markdown",
   "metadata": {},
   "source": [
    "# RNN model"
   ]
  },
  {
   "cell_type": "code",
   "execution_count": 31,
   "metadata": {},
   "outputs": [],
   "source": [
    "# reshape the data for the RNN model\n",
    "X_train = np.reshape(X_train, (X_train.shape[0], 1, X_train.shape[1]))\n",
    "X_test = np.reshape(X_test, (X_test.shape[0], 1, X_test.shape[1]))"
   ]
  },
  {
   "cell_type": "code",
   "execution_count": 32,
   "metadata": {},
   "outputs": [],
   "source": [
    "# define the RNN model\n",
    "model = Sequential()\n",
    "model.add(LSTM(units=50, return_sequences=True, input_shape=(1, X_train.shape[2])))\n",
    "model.add(Dropout(0.2))\n",
    "model.add(LSTM(units=50, return_sequences=True))\n",
    "model.add(Dropout(0.2))\n",
    "model.add(LSTM(units=50))\n",
    "model.add(Dropout(0.2))\n",
    "model.add(Dense(units=2))"
   ]
  },
  {
   "cell_type": "code",
   "execution_count": 33,
   "metadata": {},
   "outputs": [],
   "source": [
    "# compile the model\n",
    "model.compile(optimizer='adam', loss='mean_squared_error')"
   ]
  },
  {
   "cell_type": "code",
   "execution_count": 34,
   "metadata": {},
   "outputs": [
    {
     "name": "stdout",
     "output_type": "stream",
     "text": [
      "Epoch 1/25\n",
      "9629/9629 [==============================] - 69s 6ms/step - loss: 113.4445 - val_loss: 0.4423\n",
      "Epoch 2/25\n",
      "9629/9629 [==============================] - 62s 6ms/step - loss: 11.5287 - val_loss: 0.4826\n",
      "Epoch 3/25\n",
      "9629/9629 [==============================] - 62s 6ms/step - loss: 10.1907 - val_loss: 0.4234\n",
      "Epoch 4/25\n",
      "9629/9629 [==============================] - 64s 7ms/step - loss: 8.9618 - val_loss: 0.4549\n",
      "Epoch 5/25\n",
      "9629/9629 [==============================] - 52s 5ms/step - loss: 7.9086 - val_loss: 0.4207\n",
      "Epoch 6/25\n",
      "9629/9629 [==============================] - 46s 5ms/step - loss: 6.9284 - val_loss: 0.4064\n",
      "Epoch 7/25\n",
      "9629/9629 [==============================] - 46s 5ms/step - loss: 6.0349 - val_loss: 0.4383\n",
      "Epoch 8/25\n",
      "9629/9629 [==============================] - 43s 4ms/step - loss: 5.2385 - val_loss: 0.4486\n",
      "Epoch 9/25\n",
      "9629/9629 [==============================] - 46s 5ms/step - loss: 4.4975 - val_loss: 0.3849\n",
      "Epoch 10/25\n",
      "9629/9629 [==============================] - 46s 5ms/step - loss: 3.8190 - val_loss: 0.3577\n",
      "Epoch 11/25\n",
      "9629/9629 [==============================] - 46s 5ms/step - loss: 3.2266 - val_loss: 0.3505\n",
      "Epoch 12/25\n",
      "9629/9629 [==============================] - 45s 5ms/step - loss: 2.6929 - val_loss: 0.3238\n",
      "Epoch 13/25\n",
      "9629/9629 [==============================] - 44s 5ms/step - loss: 2.2149 - val_loss: 0.2938\n",
      "Epoch 14/25\n",
      "9629/9629 [==============================] - 44s 5ms/step - loss: 1.7699 - val_loss: 0.2883\n",
      "Epoch 15/25\n",
      "9629/9629 [==============================] - 45s 5ms/step - loss: 1.3939 - val_loss: 0.2565\n",
      "Epoch 16/25\n",
      "9629/9629 [==============================] - 45s 5ms/step - loss: 1.0739 - val_loss: 0.2473\n",
      "Epoch 17/25\n",
      "9629/9629 [==============================] - 45s 5ms/step - loss: 0.8174 - val_loss: 0.2398\n",
      "Epoch 18/25\n",
      "9629/9629 [==============================] - 45s 5ms/step - loss: 0.6137 - val_loss: 0.2322\n",
      "Epoch 19/25\n",
      "9629/9629 [==============================] - 44s 5ms/step - loss: 0.4631 - val_loss: 0.2286\n",
      "Epoch 20/25\n",
      "9629/9629 [==============================] - 45s 5ms/step - loss: 0.3597 - val_loss: 0.2220\n",
      "Epoch 21/25\n",
      "9629/9629 [==============================] - 44s 5ms/step - loss: 0.2975 - val_loss: 0.2181\n",
      "Epoch 22/25\n",
      "9629/9629 [==============================] - 45s 5ms/step - loss: 0.2627 - val_loss: 0.2147\n",
      "Epoch 23/25\n",
      "9629/9629 [==============================] - 45s 5ms/step - loss: 0.2464 - val_loss: 0.2094\n",
      "Epoch 24/25\n",
      "9629/9629 [==============================] - 44s 5ms/step - loss: 0.2371 - val_loss: 0.2066\n",
      "Epoch 25/25\n",
      "9629/9629 [==============================] - 45s 5ms/step - loss: 0.2315 - val_loss: 0.2039\n"
     ]
    },
    {
     "data": {
      "text/plain": [
       "<keras.callbacks.History at 0x2ce81a03910>"
      ]
     },
     "execution_count": 34,
     "metadata": {},
     "output_type": "execute_result"
    }
   ],
   "source": [
    "# train the model with early stopping\n",
    "early_stop = EarlyStopping(monitor='val_loss', patience=10)\n",
    "model.fit(X_train, y_train, epochs=25, batch_size=32, validation_data=(X_test, y_test), callbacks=[early_stop])\n"
   ]
  },
  {
   "cell_type": "code",
   "execution_count": 35,
   "metadata": {},
   "outputs": [
    {
     "name": "stdout",
     "output_type": "stream",
     "text": [
      "2408/2408 [==============================] - 4s 2ms/step - loss: 0.2039\n"
     ]
    }
   ],
   "source": [
    "# evaluate the model on the test set\n",
    "test_loss = model.evaluate(X_test, y_test)"
   ]
  },
  {
   "cell_type": "code",
   "execution_count": 36,
   "metadata": {},
   "outputs": [
    {
     "data": {
      "text/plain": [
       "0.20388010144233704"
      ]
     },
     "execution_count": 36,
     "metadata": {},
     "output_type": "execute_result"
    }
   ],
   "source": [
    "test_loss"
   ]
  },
  {
   "cell_type": "code",
   "execution_count": 37,
   "metadata": {},
   "outputs": [],
   "source": [
    "model.save('../models/algo3_final.h5')"
   ]
  },
  {
   "cell_type": "code",
   "execution_count": 38,
   "metadata": {},
   "outputs": [
    {
     "name": "stdout",
     "output_type": "stream",
     "text": [
      "1/1 [==============================] - 1s 1s/step\n",
      "Predicted latitude: 21.71101951599121\n",
      "Predicted longitude: 68.0073013305664\n"
     ]
    }
   ],
   "source": [
    "\n",
    "model = keras.models.load_model('../models/algo3_final.h5')\n",
    "# load the input data\n",
    "input_data = pd.DataFrame({'season': [2], 'English Name': [85], 'Fish Temp In Category': [1]})\n",
    "# normalize and reshape the input data\n",
    "input_data = scaler.transform(input_data)\n",
    "input_data = np.reshape(input_data, (1, 1, input_data.shape[1]))\n",
    "# X_train = np.reshape(X_train, (X_train.shape[0], 1, X_train.shape[1]))\n",
    "\n",
    "# make predictions\n",
    "predictions = model.predict(input_data)\n",
    "\n",
    "# print the predicted latitude and longitude values\n",
    "print(f\"Predicted latitude: {predictions[0][0]}\")\n",
    "print(f\"Predicted longitude: {predictions[0][1]}\")\n"
   ]
  },
  {
   "attachments": {},
   "cell_type": "markdown",
   "metadata": {},
   "source": [
    "22.48110580444336\n",
    "Predicted longitude: 67.2323989868164"
   ]
  },
  {
   "attachments": {},
   "cell_type": "markdown",
   "metadata": {},
   "source": [
    "## Algo 4"
   ]
  },
  {
   "attachments": {},
   "cell_type": "markdown",
   "metadata": {},
   "source": [
    "# ARIMA model"
   ]
  },
  {
   "cell_type": "code",
   "execution_count": 40,
   "metadata": {},
   "outputs": [
    {
     "name": "stdout",
     "output_type": "stream",
     "text": [
      "RMSE for lat: 0.49\n",
      "MAPE for lat: 2.02%\n",
      "RMSE for lon: 0.49\n",
      "MAPE for lon: 0.61%\n"
     ]
    }
   ],
   "source": [
    "from statsmodels.tsa.arima.model import ARIMA\n",
    "\n",
    "# Load data into pandas DataFrame\n",
    "data = pd.read_csv('../data/cat_data_eng.csv')\n",
    "data.drop([\"chl_df_a\",\"sst\", \"Fish Temp In Category\"],axis=1,inplace=True)\n",
    "# Specify input and output variables\n",
    "input_vars = [\"month\", \"season\", \"English Name\"]\n",
    "output_vars = [\"lat\", \"lon\"]\n",
    "\n",
    "# Split data into training and testing sets\n",
    "train_size = int(len(data) * 0.8)\n",
    "train_data, test_data = data.iloc[:train_size], data.iloc[train_size:]\n",
    "\n",
    "models = {}\n",
    "# Train ARIMA model for each output variable\n",
    "for var in output_vars:\n",
    "    # Prepare input and output data\n",
    "    train_input = train_data[input_vars]\n",
    "    train_output = train_data[var]\n",
    "    test_input = test_data[input_vars]\n",
    "    \n",
    "    # Fit ARIMA model\n",
    "    arima_model = ARIMA(train_output, order=(1, 1, 1))\n",
    "    model_fit = arima_model.fit()\n",
    "\n",
    "    # Make predictions\n",
    "    predictions = model_fit.predict(start=len(train_input), end=len(train_input) + len(test_input) - 1, dynamic=False)\n",
    "    \n",
    "    # Print RMSE and MAPE metrics\n",
    "    rmse = ((test_data[var] - predictions) ** 2).mean() ** 0.5\n",
    "    mape = (abs(test_data[var] - predictions) / test_data[var]).mean() * 100\n",
    "    print(f\"RMSE for {var}: {rmse:.2f}\")\n",
    "    print(f\"MAPE for {var}: {mape:.2f}%\")\n",
    "    \n",
    "    models[var] = model_fit\n",
    "    joblib.dump(model_fit, f\"../models/ARIMA_{var}_model.pkl\")\n"
   ]
  },
  {
   "cell_type": "code",
   "execution_count": 41,
   "metadata": {},
   "outputs": [
    {
     "name": "stdout",
     "output_type": "stream",
     "text": [
      "Predicted lat: [21.27069283]\n",
      "Predicted lon: [68.44861603]\n"
     ]
    }
   ],
   "source": [
    "from datetime import datetime\n",
    "new_data = pd.DataFrame({\n",
    "    'month': [datetime(2022, 1, 1).strftime('%Y-%m-%d'),],\n",
    "    'season': [2],\n",
    "    'English Name': [1],\n",
    "})\n",
    "\n",
    "# Make the prediction for the latitude and longitude variables\n",
    "for var in output_vars:\n",
    "    model_fit = models[var]\n",
    "    exog = new_data[input_vars]\n",
    "    predictions = model_fit.predict(start=len(train_data) + len(test_data), end=len(train_data) + len(test_data) + len(new_data) - 1, exog=new_data[input_vars], dynamic=False)\n",
    "    print(f\"Predicted {var}: {predictions.values}\")"
   ]
  },
  {
   "attachments": {},
   "cell_type": "markdown",
   "metadata": {},
   "source": [
    "## Algo 5"
   ]
  },
  {
   "attachments": {},
   "cell_type": "markdown",
   "metadata": {},
   "source": [
    "# RandomForest_model"
   ]
  },
  {
   "cell_type": "code",
   "execution_count": 44,
   "metadata": {},
   "outputs": [],
   "source": [
    "data = pd.read_csv('../data/data.csv')\n",
    "data.drop(['month','Species Category','chl_df_a', 'sst','Scientific Name','Local Name'],axis=1,inplace=True)\n",
    "cat_vars = ['English Name','Fish Temp In Category']\n",
    "label_encoders = {}\n",
    "for var in cat_vars:\n",
    "    label_encoders[var] = LabelEncoder()\n",
    "    data[var] = label_encoders[var].fit_transform(data[var])\n",
    "X = data[['season', 'English Name', 'Fish Temp In Category']]\n",
    "y = data[['lat', 'lon']]\n",
    "X_train, X_test, y_train, y_test = train_test_split(X, y, test_size=0.1, random_state=42)\n",
    "# normalize the data\n",
    "scaler = StandardScaler()\n",
    "X_train = scaler.fit_transform(X_train)\n",
    "X_test = scaler.transform(X_test)"
   ]
  },
  {
   "cell_type": "code",
   "execution_count": 45,
   "metadata": {},
   "outputs": [
    {
     "name": "stdout",
     "output_type": "stream",
     "text": [
      "Random Forest Regression MSE: 0.369195705716941\n"
     ]
    }
   ],
   "source": [
    "\n",
    "# Create and train the model\n",
    "rf_model = RandomForestRegressor(n_estimators=100, random_state=42)\n",
    "rf_model.fit(X_train, y_train)\n",
    "\n",
    "# Evaluate the model on the testing set\n",
    "predictions = rf_model.predict(X_test)\n",
    "rmse = mean_squared_error(y_test, predictions, squared=False)\n",
    "print(\"Random Forest Regression MSE:\", rmse)\n",
    "\n"
   ]
  },
  {
   "cell_type": "code",
   "execution_count": null,
   "metadata": {},
   "outputs": [
    {
     "data": {
      "text/plain": [
       "array([-62.78317297,  -4.70792488,  -0.69184468, -12.96958883,\n",
       "       -14.01482169])"
      ]
     },
     "execution_count": 155,
     "metadata": {},
     "output_type": "execute_result"
    }
   ],
   "source": [
    "from sklearn.model_selection import cross_val_score\n",
    "cross_val_score(rf_model, X, y, cv=5)"
   ]
  },
  {
   "cell_type": "code",
   "execution_count": null,
   "metadata": {},
   "outputs": [],
   "source": [
    "# from sklearn.metrics import accuracy_score\n",
    "# accuracy_score(y_test, predictions)"
   ]
  },
  {
   "cell_type": "code",
   "execution_count": null,
   "metadata": {},
   "outputs": [
    {
     "data": {
      "text/plain": [
       "[<matplotlib.lines.Line2D at 0x7f502fea3850>,\n",
       " <matplotlib.lines.Line2D at 0x7f502fea38b0>]"
      ]
     },
     "execution_count": 146,
     "metadata": {},
     "output_type": "execute_result"
    },
    {
     "data": {
      "image/png": "[encoded data removed]",
      "text/plain": [
       "<Figure size 640x480 with 1 Axes>"
      ]
     },
     "metadata": {},
     "output_type": "display_data"
    }
   ],
   "source": [
    "plt.plot(y_test)"
   ]
  },
  {
   "cell_type": "code",
   "execution_count": null,
   "metadata": {},
   "outputs": [
    {
     "data": {
      "text/plain": [
       "[<matplotlib.lines.Line2D at 0x7f502ff84be0>,\n",
       " <matplotlib.lines.Line2D at 0x7f502ff76970>]"
      ]
     },
     "execution_count": 147,
     "metadata": {},
     "output_type": "execute_result"
    },
    {
     "data": {
      "image/png": "[encoded data removed]",
      "text/plain": [
       "<Figure size 640x480 with 1 Axes>"
      ]
     },
     "metadata": {},
     "output_type": "display_data"
    }
   ],
   "source": [
    "plt.plot(predictions)"
   ]
  },
  {
   "cell_type": "code",
   "execution_count": 46,
   "metadata": {},
   "outputs": [
    {
     "data": {
      "text/plain": [
       "['../models/RandomForest_model.pkl']"
      ]
     },
     "execution_count": 46,
     "metadata": {},
     "output_type": "execute_result"
    }
   ],
   "source": [
    "# save model\n",
    "joblib.dump(rf_model, \"../models/RandomForest_model.pkl\")"
   ]
  },
  {
   "attachments": {},
   "cell_type": "markdown",
   "metadata": {},
   "source": [
    "### Make prediction Using Random Forest"
   ]
  },
  {
   "cell_type": "code",
   "execution_count": 47,
   "metadata": {},
   "outputs": [
    {
     "name": "stdout",
     "output_type": "stream",
     "text": [
      "[[22.49715204 67.21624868]\n",
      " [21.57154396 68.14631178]\n",
      " [21.97745132 67.7384491 ]]\n"
     ]
    }
   ],
   "source": [
    "rf_model = joblib.load(\"../models/RandomForest_model.pkl\")\n",
    "# Make predictions on new data\n",
    "new_data = pd.DataFrame({\n",
    "    'season': [2, 3, 1],\n",
    "    'English Name': [90, 71, 70],\n",
    "    \"Fish Temp In Category\":[2,1,1]\n",
    "})\n",
    "\n",
    "\n",
    "\n",
    "input_data = scaler.transform(new_data)\n",
    "\n",
    "predictions = rf_model.predict(input_data)\n",
    "print(predictions)"
   ]
  },
  {
   "cell_type": "code",
   "execution_count": null,
   "metadata": {},
   "outputs": [
    {
     "name": "stdout",
     "output_type": "stream",
     "text": [
      "Combined Model MSE: 0.21622587756486605\n"
     ]
    }
   ],
   "source": [
    "# # Split the data into training and testing sets for latitude\n",
    "# y_train_lat = y_train['lat']\n",
    "# y_test_lat = y_test['lat']\n",
    "\n",
    "# # Split the data into training and testing sets for longitude\n",
    "# y_train_lon = y_train['lon']\n",
    "# y_test_lon = y_test['lon']\n",
    "\n",
    "# # Gradient Boosting Regression for latitude\n",
    "# gb_model_lat = GradientBoostingRegressor(n_estimators=100, random_state=42)\n",
    "# gb_model_lat.fit(X_train, y_train_lat)\n",
    "# gb_predictions_lat = gb_model_lat.predict(X_test)\n",
    "\n",
    "# # Gradient Boosting Regression for longitude\n",
    "# gb_model_lon = GradientBoostingRegressor(n_estimators=100, random_state=42)\n",
    "# gb_model_lon.fit(X_train, y_train_lon)\n",
    "# gb_predictions_lon = gb_model_lon.predict(X_test)\n",
    "\n",
    "# # Combine the predictions\n",
    "# combined_predictions = np.column_stack((gb_predictions_lat, gb_predictions_lon))\n",
    "\n",
    "# # Calculate the combined MSE\n",
    "# combined_mse = mean_squared_error(y_test, combined_predictions)\n",
    "\n",
    "# print(\"Combined Model MSE:\", combined_mse)\n"
   ]
  },
  {
   "cell_type": "code",
   "execution_count": null,
   "metadata": {},
   "outputs": [
    {
     "name": "stdout",
     "output_type": "stream",
     "text": [
      "Combined Model Predictions:\n",
      "Data Point 1 : Lat: 43.79190399822003 , Lon: 135.64068839080704\n",
      "Data Point 2 : Lat: 44.575822731735286 , Lon: 134.852995084418\n",
      "Data Point 3 : Lat: 44.161139134934274 , Lon: 135.26967212021106\n"
     ]
    }
   ],
   "source": [
    "# new_data = pd.DataFrame({\n",
    "#     'season': [1, 2, 3],\n",
    "#     'English Name': [80, 90, 70],\n",
    "#     'Fish Temp In Category': [1, 2, 2]\n",
    "# })\n",
    "\n",
    "# new_data_scaled = scaler.transform(new_data)\n",
    "# # Generate predictions using Random Forest Regression\n",
    "# rf_predictions = rf_model.predict(new_data_scaled)\n",
    "\n",
    "# # Generate predictions using Gradient Boosting Regression\n",
    "# gb_predictions_lat = gb_model_lat.predict(new_data_scaled)\n",
    "# gb_predictions_lon = gb_model_lon.predict(new_data_scaled)\n",
    "\n",
    "# # Combine the predictions\n",
    "# combined_predictions = rf_predictions + np.column_stack((gb_predictions_lat, gb_predictions_lon))\n",
    "# print(\"Combined Model Predictions:\")\n",
    "# for i in range(len(combined_predictions)):\n",
    "#     print(\"Data Point\", i+1, \": Lat:\", combined_predictions[i][0], \", Lon:\", combined_predictions[i][1])\n"
   ]
  },
  {
   "attachments": {},
   "cell_type": "markdown",
   "metadata": {},
   "source": [
    "## Algo 6"
   ]
  },
  {
   "attachments": {},
   "cell_type": "markdown",
   "metadata": {},
   "source": [
    "# KNN model"
   ]
  },
  {
   "cell_type": "code",
   "execution_count": 49,
   "metadata": {},
   "outputs": [
    {
     "name": "stdout",
     "output_type": "stream",
     "text": [
      "R2 score: 0.61\n"
     ]
    },
    {
     "data": {
      "text/plain": [
       "['../models/KNN_model.pkl']"
      ]
     },
     "execution_count": 49,
     "metadata": {},
     "output_type": "execute_result"
    }
   ],
   "source": [
    "# Train the KNN model\n",
    "knn_model = KNeighborsRegressor(n_neighbors=5)\n",
    "knn_model.fit(X_train, y_train)\n",
    "\n",
    "# Make predictions on the testing set\n",
    "y_pred = knn_model.predict(X_test)\n",
    "\n",
    "# Evaluate the model\n",
    "score = r2_score(y_test, y_pred)\n",
    "print(f'R2 score: {score:.2f}')\n",
    "# rmse = mean_squared_error(y_test, predictions, squared=False)\n",
    "# print(\"Rmse:\", rmse)\n",
    "\n",
    "\n",
    "# save knn model\n",
    "joblib.dump(knn_model, \"../models/KNN_model.pkl\")\n"
   ]
  },
  {
   "attachments": {},
   "cell_type": "markdown",
   "metadata": {},
   "source": [
    "### Make prediction Using KNN"
   ]
  },
  {
   "cell_type": "code",
   "execution_count": 50,
   "metadata": {},
   "outputs": [
    {
     "name": "stdout",
     "output_type": "stream",
     "text": [
      "[[22.44307976 67.27057953]\n",
      " [21.86935844 67.84706268]\n",
      " [22.49296913 67.22045135]]\n"
     ]
    },
    {
     "name": "stderr",
     "output_type": "stream",
     "text": [
      "c:\\Users\\utamp\\anaconda3\\envs\\ai_exp\\Lib\\site-packages\\sklearn\\base.py:439: UserWarning: X does not have valid feature names, but StandardScaler was fitted with feature names\n",
      "  warnings.warn(\n"
     ]
    }
   ],
   "source": [
    "# Select some input data for prediction\n",
    "X_pred = np.array([\n",
    "    [ 2, 75,2],\n",
    "    [3, 82,1],\n",
    "    [4, 90,3],\n",
    "])\n",
    "\n",
    "\n",
    "# Scale the input data using the same scaler used for training\n",
    "X_pred = scaler.transform(X_pred)\n",
    "\n",
    "# Make predictions\n",
    "y_pred = knn_model.predict(X_pred)\n",
    "\n",
    "# Inverse transform the output data to get the original units\n",
    "# y_pred = scaler_y.inverse_transform(y_pred)\n",
    "\n",
    "# Print the predicted output\n",
    "print(y_pred)\n"
   ]
  }
 ],
 "metadata": {
  "kernelspec": {
   "display_name": "fish-venv",
   "language": "python",
   "name": "python3"
  },
  "language_info": {
   "codemirror_mode": {
    "name": "ipython",
    "version": 3
   },
   "file_extension": ".py",
   "mimetype": "text/x-python",
   "name": "python",
   "nbconvert_exporter": "python",
   "pygments_lexer": "ipython3",
   "version": "3.11.3"
  },
  "orig_nbformat": 4
 },
 "nbformat": 4,
 "nbformat_minor": 2
}
